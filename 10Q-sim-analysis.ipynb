{
 "cells": [
  {
   "cell_type": "code",
   "execution_count": 45,
   "metadata": {},
   "outputs": [],
   "source": [
    "import os\n",
    "import pandas as pd\n",
    "import numpy as np\n",
    "from math import *\n",
    "import datetime as dt\n",
    "from datetime import datetime\n",
    "from dateutil.relativedelta import *\n",
    "from pandas.tseries.holiday import get_calendar, HolidayCalendarFactory, GoodFriday\n",
    "\n",
    "import matplotlib.pyplot as plt\n",
    "%matplotlib inline"
   ]
  },
  {
   "cell_type": "code",
   "execution_count": 38,
   "metadata": {},
   "outputs": [],
   "source": [
    "path_10q = \"10Q\"\n",
    "working_path = \"/Users/yongzhongxu/Desktop/SIM-Analysis\"\n",
    "os.chdir(working_path)\n",
    "\n",
    "ticker=\"mmc\"\n",
    "cik_df = pd.read_csv(\"tickers.csv\")\n",
    "keys = cik_df[\"ticker\"].values\n",
    "values = cik_df[\"cik\"].values.astype(\"str\")\n",
    "cik_dict = dict(zip(keys, values))\n",
    "os.chdir(path_10q)\n",
    "cik = cik_dict[ticker] \n",
    "m = len(cik)\n",
    "os.chdir(cik)\n",
    "# Get list of scraped files\n",
    "# excluding hidden files and directories\n",
    "file_list = [fname for fname in os.listdir() if not (fname.startswith('.') | os.path.isdir(fname))]\n",
    "dates_str= [fname[(m+1):(m+11)] for fname in file_list]\n",
    "dates = [pd.to_datetime(fname[(m+1):(m+11)]).date() for fname in file_list]\n",
    "dates.sort()\n",
    "file = \"metrics/\"+cik+\"_sim_scores.csv\"\n",
    "sim = pd.read_csv(file, header = None, skiprows = 4)\n",
    "os.chdir(\"../..\")"
   ]
  },
  {
   "cell_type": "code",
   "execution_count": 39,
   "metadata": {},
   "outputs": [],
   "source": [
    "sim = sim.rename(columns={0: \"Date\", 1:\"cos_sim\", 2:\"jaccard_sim\"}).set_index(\"Date\")"
   ]
  },
  {
   "cell_type": "code",
   "execution_count": 40,
   "metadata": {},
   "outputs": [
    {
     "name": "stderr",
     "output_type": "stream",
     "text": [
      "/anaconda3/lib/python3.6/site-packages/ipykernel_launcher.py:1: DeprecationWarning: \n",
      ".ix is deprecated. Please use\n",
      ".loc for label based indexing or\n",
      ".iloc for positional indexing\n",
      "\n",
      "See the documentation here:\n",
      "http://pandas.pydata.org/pandas-docs/stable/indexing.html#ix-indexer-is-deprecated\n",
      "  \"\"\"Entry point for launching an IPython kernel.\n"
     ]
    },
    {
     "data": {
      "text/plain": [
       "cos_sim        0.786502\n",
       "jaccard_sim    0.647875\n",
       "Name: 2006-05-10, dtype: float64"
      ]
     },
     "execution_count": 40,
     "metadata": {},
     "output_type": "execute_result"
    }
   ],
   "source": [
    "sim.ix[dates_str[10]]"
   ]
  },
  {
   "cell_type": "code",
   "execution_count": 41,
   "metadata": {},
   "outputs": [
    {
     "name": "stdout",
     "output_type": "stream",
     "text": [
      "DatetimeIndex(['2016-01-01', '2016-01-18', '2016-02-15', '2016-03-25',\n",
      "               '2016-05-30', '2016-07-04', '2016-09-05', '2016-11-24',\n",
      "               '2016-12-26'],\n",
      "              dtype='datetime64[ns]', freq=None)\n"
     ]
    }
   ],
   "source": [
    "# get NYSE holidays #\n",
    "from pandas.tseries.holiday import AbstractHolidayCalendar, Holiday, nearest_workday, \\\n",
    "    USMartinLutherKingJr, USPresidentsDay, GoodFriday, USMemorialDay, \\\n",
    "    USLaborDay, USThanksgivingDay\n",
    "\n",
    "class USTradingCalendar(AbstractHolidayCalendar):\n",
    "    rules = [\n",
    "        Holiday('NewYearsDay', month=1, day=1, observance=nearest_workday),\n",
    "        USMartinLutherKingJr,\n",
    "        USPresidentsDay,\n",
    "        GoodFriday,\n",
    "        USMemorialDay,\n",
    "        Holiday('USIndependenceDay', month=7, day=4, observance=nearest_workday),\n",
    "        USLaborDay,\n",
    "        USThanksgivingDay,\n",
    "        Holiday('Christmas', month=12, day=25, observance=nearest_workday)\n",
    "    ]\n",
    "\n",
    "def get_trading_close_holidays(year):\n",
    "    inst = USTradingCalendar()\n",
    "    return inst.holidays(dt.datetime(year-1, 12, 31), dt.datetime(year, 12, 31))\n",
    "\n",
    "if __name__ == '__main__':\n",
    "    print(get_trading_close_holidays(2016))"
   ]
  },
  {
   "cell_type": "code",
   "execution_count": 42,
   "metadata": {},
   "outputs": [
    {
     "name": "stdout",
     "output_type": "stream",
     "text": [
      "2001-05-15 False\n",
      "2001-08-13 False\n",
      "2001-11-14 False\n",
      "2002-05-14 False\n",
      "2002-08-13 False\n",
      "2002-11-14 False\n",
      "2003-05-13 False\n",
      "2003-08-14 False\n",
      "2003-11-14 False\n",
      "2004-05-10 False\n",
      "2004-08-03 False\n",
      "2004-11-09 False\n",
      "2005-05-06 False\n",
      "2005-08-09 False\n",
      "2005-11-09 False\n",
      "2006-05-10 False\n",
      "2006-08-09 False\n",
      "2006-11-09 False\n",
      "2007-05-10 False\n",
      "2007-08-09 False\n",
      "2007-11-09 False\n",
      "2008-05-08 False\n",
      "2008-08-08 False\n",
      "2008-11-07 False\n",
      "2009-05-08 False\n",
      "2009-08-07 False\n",
      "2009-11-05 False\n",
      "2010-05-07 False\n",
      "2010-08-06 False\n",
      "2010-11-09 False\n",
      "2011-05-06 False\n",
      "2011-08-05 False\n",
      "2011-11-04 False\n",
      "2012-05-08 False\n",
      "2012-08-08 False\n",
      "2012-11-08 False\n",
      "2013-05-09 False\n",
      "2013-08-08 False\n",
      "2013-11-07 False\n",
      "2014-05-08 False\n",
      "2014-08-04 False\n",
      "2014-11-04 False\n",
      "2015-05-04 False\n",
      "2015-07-31 False\n",
      "2015-10-29 False\n",
      "2016-05-02 False\n",
      "2016-08-01 False\n",
      "2016-10-28 False\n",
      "2017-04-28 False\n",
      "2017-07-28 False\n",
      "2017-10-27 False\n",
      "2018-04-27 False\n",
      "2018-07-27 False\n",
      "2018-10-26 False\n",
      "2019-04-26 False\n"
     ]
    }
   ],
   "source": [
    "for d in dates:\n",
    "    y = d.year\n",
    "    print(d, d in get_trading_close_holidays(y) )\n"
   ]
  },
  {
   "cell_type": "code",
   "execution_count": 49,
   "metadata": {},
   "outputs": [
    {
     "data": {
      "text/html": [
       "<div>\n",
       "<style scoped>\n",
       "    .dataframe tbody tr th:only-of-type {\n",
       "        vertical-align: middle;\n",
       "    }\n",
       "\n",
       "    .dataframe tbody tr th {\n",
       "        vertical-align: top;\n",
       "    }\n",
       "\n",
       "    .dataframe thead th {\n",
       "        text-align: right;\n",
       "    }\n",
       "</style>\n",
       "<table border=\"1\" class=\"dataframe\">\n",
       "  <thead>\n",
       "    <tr style=\"text-align: right;\">\n",
       "      <th></th>\n",
       "      <th>Adj_close</th>\n",
       "    </tr>\n",
       "    <tr>\n",
       "      <th>Date</th>\n",
       "      <th></th>\n",
       "    </tr>\n",
       "  </thead>\n",
       "  <tbody>\n",
       "    <tr>\n",
       "      <th>2000-01-03</th>\n",
       "      <td>27.494371</td>\n",
       "    </tr>\n",
       "    <tr>\n",
       "      <th>2000-01-04</th>\n",
       "      <td>26.258673</td>\n",
       "    </tr>\n",
       "    <tr>\n",
       "      <th>2000-01-05</th>\n",
       "      <td>25.313740</td>\n",
       "    </tr>\n",
       "    <tr>\n",
       "      <th>2000-01-06</th>\n",
       "      <td>27.157269</td>\n",
       "    </tr>\n",
       "    <tr>\n",
       "      <th>2000-01-07</th>\n",
       "      <td>28.020283</td>\n",
       "    </tr>\n",
       "  </tbody>\n",
       "</table>\n",
       "</div>"
      ],
      "text/plain": [
       "            Adj_close\n",
       "Date                 \n",
       "2000-01-03  27.494371\n",
       "2000-01-04  26.258673\n",
       "2000-01-05  25.313740\n",
       "2000-01-06  27.157269\n",
       "2000-01-07  28.020283"
      ]
     },
     "execution_count": 49,
     "metadata": {},
     "output_type": "execute_result"
    }
   ],
   "source": [
    "mmc= pd.read_csv(\"MMC_full.csv\",  header=None, skiprows=2)\n",
    "mmc = mmc.rename(columns={0: \"Date\", 5:\"Adj_close\"}).set_index(\"Date\")\n",
    "mmc = mmc[[\"Adj_close\"]]\n"
   ]
  },
  {
   "cell_type": "code",
   "execution_count": 115,
   "metadata": {},
   "outputs": [
    {
     "name": "stderr",
     "output_type": "stream",
     "text": [
      "/anaconda3/lib/python3.6/site-packages/ipykernel_launcher.py:1: FutureWarning: pd.rolling_mean is deprecated for Series and will be removed in a future version, replace with \n",
      "\tSeries.rolling(window=5,center=False).mean()\n",
      "  \"\"\"Entry point for launching an IPython kernel.\n"
     ]
    },
    {
     "data": {
      "text/html": [
       "<div>\n",
       "<style scoped>\n",
       "    .dataframe tbody tr th:only-of-type {\n",
       "        vertical-align: middle;\n",
       "    }\n",
       "\n",
       "    .dataframe tbody tr th {\n",
       "        vertical-align: top;\n",
       "    }\n",
       "\n",
       "    .dataframe thead th {\n",
       "        text-align: right;\n",
       "    }\n",
       "</style>\n",
       "<table border=\"1\" class=\"dataframe\">\n",
       "  <thead>\n",
       "    <tr style=\"text-align: right;\">\n",
       "      <th></th>\n",
       "      <th>Adj_close</th>\n",
       "      <th>5d</th>\n",
       "    </tr>\n",
       "    <tr>\n",
       "      <th>Date</th>\n",
       "      <th></th>\n",
       "      <th></th>\n",
       "    </tr>\n",
       "  </thead>\n",
       "  <tbody>\n",
       "    <tr>\n",
       "      <th>2000-01-03</th>\n",
       "      <td>27.494371</td>\n",
       "      <td>NaN</td>\n",
       "    </tr>\n",
       "    <tr>\n",
       "      <th>2000-01-04</th>\n",
       "      <td>26.258673</td>\n",
       "      <td>NaN</td>\n",
       "    </tr>\n",
       "    <tr>\n",
       "      <th>2000-01-05</th>\n",
       "      <td>25.313740</td>\n",
       "      <td>NaN</td>\n",
       "    </tr>\n",
       "    <tr>\n",
       "      <th>2000-01-06</th>\n",
       "      <td>27.157269</td>\n",
       "      <td>NaN</td>\n",
       "    </tr>\n",
       "    <tr>\n",
       "      <th>2000-01-07</th>\n",
       "      <td>28.020283</td>\n",
       "      <td>26.85</td>\n",
       "    </tr>\n",
       "  </tbody>\n",
       "</table>\n",
       "</div>"
      ],
      "text/plain": [
       "            Adj_close     5d\n",
       "Date                        \n",
       "2000-01-03  27.494371    NaN\n",
       "2000-01-04  26.258673    NaN\n",
       "2000-01-05  25.313740    NaN\n",
       "2000-01-06  27.157269    NaN\n",
       "2000-01-07  28.020283  26.85"
      ]
     },
     "execution_count": 115,
     "metadata": {},
     "output_type": "execute_result"
    }
   ],
   "source": [
    "mmc[\"5d\"]= np.round(pd.rolling_mean(mmc['Adj_close'], window=5), 2)\n",
    "mmc.head()"
   ]
  },
  {
   "cell_type": "code",
   "execution_count": 116,
   "metadata": {},
   "outputs": [
    {
     "name": "stdout",
     "output_type": "stream",
     "text": [
      "2001-11-14 2001-11-13 2001-12-14 2002-01-14 2002-02-14\n",
      "2001-11-14 -0.016792475447569323 -0.003118090085016538\n",
      "2002-05-14 2002-05-13 2002-06-14 2002-07-12 2002-08-14\n",
      "2002-05-14 -0.08836082119445265 -0.1284451666082928\n",
      "2002-08-13 2002-08-12 2002-09-13 2002-10-11 2002-11-13\n",
      "2002-08-13 0.011233590830252218 -0.06416611682332077\n",
      "2002-11-14 2002-11-13 2002-12-13 2003-01-14 2003-02-14\n",
      "2002-11-14 -0.01848605368916326 0.04732035567233573\n",
      "2003-05-13 2003-05-12 2003-06-13 2003-07-11 2003-08-13\n",
      "2003-05-13 0.10358133893626995 0.0784614632637367\n",
      "2003-08-14 2003-08-13 2003-09-12 2003-10-14 2003-11-14\n",
      "2003-08-14 -0.025135159643995254 -0.042574031738566054\n",
      "2003-11-14 2003-11-13 2003-12-12 2004-01-14 2004-02-13\n",
      "2003-11-14 -0.0013220477561604511 0.04639073897901107\n",
      "2004-05-10 2004-05-07 2004-06-10 2004-07-09 2004-08-10\n",
      "2004-05-10 -0.009575926448326345 0.021267009035495433\n",
      "2004-08-03 2004-08-02 2004-09-03 2004-10-01 2004-11-03\n",
      "2004-08-03 0.03213104910326283 0.04997705575467034\n",
      "2004-11-09 2004-11-08 2004-12-09 2005-01-07 2005-02-09\n",
      "2004-11-09 0.1109373218787824 0.1332575184022946\n",
      "2005-05-06 2005-05-05 2005-06-06 2005-07-06 2005-08-05\n",
      "2005-05-06 -0.019464295100762714 -0.05700795007204131\n",
      "2005-08-09 2005-08-08 2005-09-09 2005-10-07 2005-11-09\n",
      "2005-08-09 0.07405461559763195 0.09689541417374367\n",
      "2005-11-09 2005-11-08 2005-12-09 2006-01-09 2006-02-09\n",
      "2005-11-09 0.13423180933387252 0.13681382015100882\n",
      "2006-05-10 2006-05-09 2006-06-09 2006-07-10 2006-08-10\n",
      "2006-05-10 -0.0680344687154232 -0.11254175548093916\n",
      "2006-08-09 2006-08-08 2006-09-08 2006-10-09 2006-11-09\n",
      "2006-08-09 0.03529550367253186 0.09124646194256991\n",
      "2006-11-09 2006-11-08 2006-12-08 2007-01-09 2007-02-09\n",
      "2006-11-09 -0.008548407510978519 -0.01877518146270588\n",
      "2007-05-10 2007-05-09 2007-06-08 2007-07-10 2007-08-10\n",
      "2007-05-10 0.0 -0.01054231679089073\n",
      "2007-08-09 2007-08-08 2007-09-07 2007-10-09 2007-11-09\n",
      "2007-08-09 -0.016617024885674517 -0.003752846587558573\n",
      "2007-11-09 2007-11-08 2007-12-07 2008-01-09 2008-02-08\n",
      "2007-11-09 0.04661198480329561 0.07765543859620408\n",
      "2008-05-08 2008-05-07 2008-06-06 2008-07-08 2008-08-08\n",
      "2008-05-08 -0.05631152608802147 0.05395889680871393\n",
      "2008-08-08 2008-08-07 2008-09-08 2008-10-08 2008-11-07\n",
      "2008-08-08 0.11691430681812019 -0.016444363092687004\n",
      "2008-11-07 2008-11-06 2008-12-05 2009-01-07 2009-02-06\n",
      "2008-11-07 -0.012106889433826061 -0.030132787260921518\n",
      "2009-05-08 2009-05-07 2009-06-08 2009-07-08 2009-08-07\n",
      "2009-05-08 -0.03096830273396527 -0.08917720048884079\n",
      "2009-08-07 2009-08-06 2009-09-04 2009-10-07 2009-11-06\n",
      "2009-08-07 0.02053828765536456 0.07695037059626472\n",
      "2009-11-05 2009-11-04 2009-12-04 2010-01-05 2010-02-05\n",
      "2009-11-05 -0.03103045963792834 -0.0709902810116772\n",
      "2010-05-07 2010-05-06 2010-06-07 2010-07-07 2010-08-06\n",
      "2010-05-07 -0.09101354052780135 0.023963400101076296\n",
      "2010-08-06 2010-08-05 2010-09-03 2010-10-06 2010-11-05\n",
      "2010-08-06 0.01764897685714819 -0.007075206129300438\n",
      "2010-11-09 2010-11-08 2010-12-09 2011-01-07 2011-02-09\n",
      "2010-11-09 0.032193456632931286 0.04109899111527812\n",
      "2011-05-06 2011-05-05 2011-06-06 2011-07-06 2011-08-05\n",
      "2011-05-06 0.01137132927696695 0.05210030258000979\n",
      "2011-08-05 2011-08-04 2011-09-02 2011-10-05 2011-11-04\n",
      "2011-08-05 0.01284515598752847 -0.04868518720562149\n",
      "2011-11-04 2011-11-03 2011-12-02 2012-01-04 2012-02-03\n",
      "2011-11-04 -0.01308505154203374 0.022176508800961014\n",
      "2012-05-08 2012-05-07 2012-06-08 2012-07-06 2012-08-08\n",
      "2012-05-08 -0.06535877976623183 -0.04431853457590702\n",
      "2012-08-08 2012-08-07 2012-09-07 2012-10-08 2012-11-08\n",
      "2012-08-08 0.0061378841120364605 0.018013232315111267\n",
      "2012-11-08 2012-11-07 2012-12-07 2013-01-08 2013-02-08\n",
      "2012-11-08 0.017526765387433592 0.010954332885173912\n",
      "2013-05-09 2013-05-08 2013-06-07 2013-07-09 2013-08-09\n",
      "2013-05-09 0.02199523740674574 0.037738463214033534\n",
      "2013-08-08 2013-08-07 2013-09-06 2013-10-08 2013-11-08\n",
      "2013-08-08 -0.008677203635090005 0.02277669367025981\n",
      "2013-11-07 2013-11-06 2013-12-06 2014-01-07 2014-02-07\n",
      "2013-11-07 0.03971200340347899 0.037836294599727247\n",
      "2014-05-08 2014-05-07 2014-06-06 2014-07-08 2014-08-08\n",
      "2014-05-08 0.04711689381432772 0.06304914414097787\n",
      "2014-08-04 2014-08-01 2014-09-04 2014-10-03 2014-11-04\n",
      "2014-08-04 0.04709516358351812 0.033236115816144156\n",
      "2014-11-04 2014-11-03 2014-12-04 2015-01-02 2015-02-04\n",
      "2014-11-04 0.0578483740736819 0.039930184414877015\n",
      "2015-05-04 2015-05-01 2015-06-04 2015-07-02 2015-08-04\n",
      "2015-05-04 0.02147602964840839 0.009310607376794905\n",
      "2015-07-31 2015-07-30 2015-08-31 2015-09-30 2015-10-30\n",
      "2015-07-31 -0.07888261299045869 -0.10738833305656817\n",
      "2015-10-29 2015-10-28 2015-11-27 2015-12-29 2016-01-29\n",
      "2015-10-29 -0.014695619909694264 0.0024875692561310506\n",
      "2016-05-02 2016-04-29 2016-06-02 2016-07-01 2016-08-02\n",
      "2016-05-02 0.050786287385711254 0.07561096002883437\n",
      "2016-08-01 2016-07-29 2016-09-01 2016-09-30 2016-11-01\n",
      "2016-08-01 0.0305550685819776 0.022557328231618337\n",
      "2016-10-28 2016-10-27 2016-11-28 2016-12-28 2017-01-27\n",
      "2016-10-28 0.08681369523128214 0.06939368806412002\n",
      "2017-04-28 2017-04-27 2017-05-26 2017-06-28 2017-07-28\n",
      "2017-04-28 0.028152105003101672 0.05833215678136179\n",
      "2017-07-28 2017-07-27 2017-08-28 2017-09-28 2017-10-27\n",
      "2017-07-28 0.0003872851071117875 0.07764496981037561\n",
      "2017-10-27 2017-10-26 2017-11-27 2017-12-27 2018-01-26\n",
      "2017-10-27 0.013914609349605388 0.004047912800737595\n",
      "2018-04-27 2018-04-26 2018-05-25 2018-06-27 2018-07-27\n",
      "2018-04-27 -0.01658990150980323 -0.02958906197037121\n",
      "2018-07-27 2018-07-26 2018-08-27 2018-09-27 2018-10-26\n",
      "2018-07-27 -0.009164613075147762 -0.025707820324542267\n",
      "2018-10-26 2018-10-25 2018-11-26 2018-12-26 2019-01-25\n",
      "2018-10-26 0.049885133605373576 -0.05366623053457784\n"
     ]
    }
   ],
   "source": [
    "n = len(dates)\n",
    "logret1 = np.zeros(n-3)\n",
    "logret2= np.zeros(n-3)\n",
    "logret3= np.zeros(n-3)\n",
    "logret4 = np.zeros(n-3)\n",
    "logret5= np.zeros(n-3)\n",
    "logret6= np.zeros(n-3)\n",
    "for k in range(2, n-1):\n",
    "    d = dates[k]\n",
    "    d0 = d + relativedelta(days=-1)\n",
    "    while (d0 in get_trading_close_holidays(y) or  d0.weekday()>4  ):\n",
    "        d0 = d0 + relativedelta(days=-1)\n",
    "    dd0 = d0.strftime(\"%Y-%m-%d\")\n",
    "    y = d.year\n",
    "    d1 = d + relativedelta(months=+1)\n",
    "    while (d1 in get_trading_close_holidays(y) or  d1.weekday()>4 ):\n",
    "        d1 = d1+ relativedelta(days=-1)\n",
    "    dd1 = d1.strftime(\"%Y-%m-%d\")\n",
    "    d2 = d + relativedelta(months=+2)\n",
    "    while (d2 in get_trading_close_holidays(y) or  d2.weekday()>4):\n",
    "        d2 = d2 + relativedelta(days=-1)\n",
    "    dd2 = d2.strftime(\"%Y-%m-%d\")\n",
    "    d3 = d + relativedelta(months=+3)\n",
    "    while (d3 in get_trading_close_holidays(y) or d3.weekday()>4 ):\n",
    "        d3 = d3 + relativedelta(days=-1)\n",
    "    dd3 = d3.strftime(\"%Y-%m-%d\")\n",
    "    print(d, d0, d1, dd2, dd3)\n",
    "    logret1[k-2] = log(mmc.ix[dd1]['Adj_close']/mmc.ix[dd0]['Adj_close'])\n",
    "    logret2[k-2] = log(mmc.ix[dd2]['Adj_close']/mmc.ix[dd0]['Adj_close'])\n",
    "    logret3[k-2] = log(mmc.ix[dd3]['Adj_close']/mmc.ix[dd0]['Adj_close'])\n",
    "    \n",
    "    logret4[k-2] = log(mmc.ix[dd1]['5d']/mmc.ix[dd0]['5d'])\n",
    "    logret5[k-2] = log(mmc.ix[dd2]['5d']/mmc.ix[dd0]['5d'])\n",
    "    logret6[k-2] = log(mmc.ix[dd3]['5d']/mmc.ix[dd0]['5d'])\n",
    "    print(d, logret1[k-2], logret2[k-2])"
   ]
  },
  {
   "cell_type": "code",
   "execution_count": 119,
   "metadata": {},
   "outputs": [
    {
     "data": {
      "text/plain": [
       "-0.051619977393729734"
      ]
     },
     "execution_count": 119,
     "metadata": {},
     "output_type": "execute_result"
    }
   ],
   "source": [
    "mmc_cor1 = np.corrcoef(sim[\"cos_sim\"][:51], logret4[1:])[0, 1]\n",
    "mmc_cor1"
   ]
  },
  {
   "cell_type": "code",
   "execution_count": 114,
   "metadata": {},
   "outputs": [
    {
     "data": {
      "text/plain": [
       "Date\n",
       "2002-05-14    0.764594\n",
       "2002-08-13    0.755765\n",
       "2002-11-14    0.741068\n",
       "2003-05-13    0.755956\n",
       "2003-08-14    0.760084\n",
       "2003-11-14    0.723737\n",
       "2004-05-10    0.766585\n",
       "2004-08-03    0.745914\n",
       "2004-11-09    0.711866\n",
       "2005-05-06    0.705503\n",
       "2005-08-09    0.705641\n",
       "2005-11-09    0.728801\n",
       "2006-05-10    0.786502\n",
       "2006-08-09    0.789204\n",
       "2006-11-09    0.799274\n",
       "2007-05-10    0.803430\n",
       "2007-08-09    0.785518\n",
       "2007-11-09    0.780095\n",
       "2008-05-08    0.764377\n",
       "2008-08-08    0.770230\n",
       "2008-11-07    0.768517\n",
       "2009-05-08    0.833998\n",
       "2009-08-07    0.810126\n",
       "2009-11-05    0.790281\n",
       "2010-05-07    0.809711\n",
       "2010-08-06    0.804440\n",
       "2010-11-09    0.825618\n",
       "2011-05-06    0.823134\n",
       "2011-08-05    0.827326\n",
       "2011-11-04    0.753729\n",
       "2012-05-08    0.783979\n",
       "2012-08-08    0.786459\n",
       "2012-11-08    0.817521\n",
       "2013-05-09    0.820503\n",
       "2013-08-08    0.838941\n",
       "2013-11-07    0.838102\n",
       "2014-05-08    0.825547\n",
       "2014-08-04    0.823423\n",
       "2014-11-04    0.821211\n",
       "2015-05-04    0.817322\n",
       "2015-07-31    0.823433\n",
       "2015-10-29    0.828517\n",
       "2016-05-02    0.811688\n",
       "2016-08-01    0.823104\n",
       "2016-10-28    0.824986\n",
       "2017-04-28    0.818588\n",
       "2017-07-28    0.812111\n",
       "2017-10-27    0.811569\n",
       "2018-04-27    0.804534\n",
       "2018-07-27    0.812795\n",
       "2018-10-26    0.802720\n",
       "Name: cos_sim, dtype: float64"
      ]
     },
     "execution_count": 114,
     "metadata": {},
     "output_type": "execute_result"
    }
   ],
   "source": [
    "sim[\"cos_sim\"][:51]"
   ]
  },
  {
   "cell_type": "code",
   "execution_count": 109,
   "metadata": {},
   "outputs": [
    {
     "data": {
      "text/plain": [
       "51"
      ]
     },
     "execution_count": 109,
     "metadata": {},
     "output_type": "execute_result"
    }
   ],
   "source": [
    "len(sim[\"cos_sim\"][:51])"
   ]
  },
  {
   "cell_type": "code",
   "execution_count": 83,
   "metadata": {},
   "outputs": [
    {
     "data": {
      "text/plain": [
       "[datetime.date(2001, 5, 15),\n",
       " datetime.date(2001, 8, 13),\n",
       " datetime.date(2001, 11, 14),\n",
       " datetime.date(2002, 5, 14),\n",
       " datetime.date(2002, 8, 13),\n",
       " datetime.date(2002, 11, 14),\n",
       " datetime.date(2003, 5, 13),\n",
       " datetime.date(2003, 8, 14),\n",
       " datetime.date(2003, 11, 14),\n",
       " datetime.date(2004, 5, 10),\n",
       " datetime.date(2004, 8, 3),\n",
       " datetime.date(2004, 11, 9),\n",
       " datetime.date(2005, 5, 6),\n",
       " datetime.date(2005, 8, 9),\n",
       " datetime.date(2005, 11, 9),\n",
       " datetime.date(2006, 5, 10),\n",
       " datetime.date(2006, 8, 9),\n",
       " datetime.date(2006, 11, 9),\n",
       " datetime.date(2007, 5, 10),\n",
       " datetime.date(2007, 8, 9),\n",
       " datetime.date(2007, 11, 9),\n",
       " datetime.date(2008, 5, 8),\n",
       " datetime.date(2008, 8, 8),\n",
       " datetime.date(2008, 11, 7),\n",
       " datetime.date(2009, 5, 8),\n",
       " datetime.date(2009, 8, 7),\n",
       " datetime.date(2009, 11, 5),\n",
       " datetime.date(2010, 5, 7),\n",
       " datetime.date(2010, 8, 6),\n",
       " datetime.date(2010, 11, 9),\n",
       " datetime.date(2011, 5, 6),\n",
       " datetime.date(2011, 8, 5),\n",
       " datetime.date(2011, 11, 4),\n",
       " datetime.date(2012, 5, 8),\n",
       " datetime.date(2012, 8, 8),\n",
       " datetime.date(2012, 11, 8),\n",
       " datetime.date(2013, 5, 9),\n",
       " datetime.date(2013, 8, 8),\n",
       " datetime.date(2013, 11, 7),\n",
       " datetime.date(2014, 5, 8),\n",
       " datetime.date(2014, 8, 4),\n",
       " datetime.date(2014, 11, 4),\n",
       " datetime.date(2015, 5, 4),\n",
       " datetime.date(2015, 7, 31),\n",
       " datetime.date(2015, 10, 29),\n",
       " datetime.date(2016, 5, 2),\n",
       " datetime.date(2016, 8, 1),\n",
       " datetime.date(2016, 10, 28),\n",
       " datetime.date(2017, 4, 28),\n",
       " datetime.date(2017, 7, 28),\n",
       " datetime.date(2017, 10, 27),\n",
       " datetime.date(2018, 4, 27),\n",
       " datetime.date(2018, 7, 27),\n",
       " datetime.date(2018, 10, 26),\n",
       " datetime.date(2019, 4, 26)]"
      ]
     },
     "execution_count": 83,
     "metadata": {},
     "output_type": "execute_result"
    }
   ],
   "source": [
    "dates"
   ]
  },
  {
   "cell_type": "code",
   "execution_count": null,
   "metadata": {},
   "outputs": [],
   "source": []
  }
 ],
 "metadata": {
  "kernelspec": {
   "display_name": "Python 3",
   "language": "python",
   "name": "python3"
  },
  "language_info": {
   "codemirror_mode": {
    "name": "ipython",
    "version": 3
   },
   "file_extension": ".py",
   "mimetype": "text/x-python",
   "name": "python",
   "nbconvert_exporter": "python",
   "pygments_lexer": "ipython3",
   "version": "3.6.4"
  }
 },
 "nbformat": 4,
 "nbformat_minor": 2
}
